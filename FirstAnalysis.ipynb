{
 "cells": [
  {
   "cell_type": "code",
   "execution_count": 3,
   "metadata": {},
   "outputs": [
    {
     "data": {
      "text/plain": [
       "1"
      ]
     },
     "execution_count": 3,
     "metadata": {},
     "output_type": "execute_result"
    }
   ],
   "source": [
    "import csv\n",
    "import operator\n",
    "import openpyxl\n",
    "import numpy as np\n",
    "import matplotlib.mlab as mlab\n",
    "import matplotlib.pyplot as plt\n",
    "\n",
    "wb = openpyxl.load_workbook(\"/Users/dmagestro/Data/Auto-sales-2006-2017.xlsx\")\n",
    "ws = wb['Aggregated']\n",
    "\n",
    "cell_range = ws['B2':'B200']\n",
    "oo = []\n",
    "oo.append((o[0].value for o in (cell_range)))\n",
    "\n",
    "len(oo)\n",
    "\n",
    "#for o in cell_range:\n",
    "#   print(o[0].value)\n"
   ]
  },
  {
   "cell_type": "code",
   "execution_count": 21,
   "metadata": {},
   "outputs": [
    {
     "data": {
      "text/plain": [
       "[0, 800000, 0, 150]"
      ]
     },
     "execution_count": 21,
     "metadata": {},
     "output_type": "execute_result"
    },
    {
     "data": {
      "image/png": "[encoded data removed]",
      "text/plain": [
       "<matplotlib.figure.Figure at 0x11088e198>"
      ]
     },
     "metadata": {},
     "output_type": "display_data"
    }
   ],
   "source": [
    "data =[]\n",
    "\n",
    "\n",
    "#cell_range = ws['A2':'B287']\n",
    "#for row in range(1, len(cell_range)):\n",
    "#    sales_data.append(cell_range[1])\n",
    "\n",
    "sales_data = []\n",
    "for row in range(2, len(cell_range)):\n",
    "    sales_data.append(ws.cell(row=row, column=2).value)\n",
    "\n",
    "    \n",
    "n, bins, patches = plt.hist(sales_data, 50, facecolor='green', alpha=0.75)\n",
    "\n",
    "mu, sigma = 100, 15\n",
    "x = mu + sigma*np.random.randn(10000)\n",
    "y = mlab.normpdf(bins, mu, sigma)\n",
    "l = plt.plot(bins, y, 'r--', linewidth=1)\n",
    "\n",
    "plt.xlabel('Sales')\n",
    "plt.ylabel('Count')\n",
    "plt.title(r'Count of cars with sales level')\n",
    "plt.axis([0, 800000, 0, 150])\n",
    "# plt.grid(True)"
   ]
  },
  {
   "cell_type": "code",
   "execution_count": 10,
   "metadata": {},
   "outputs": [
    {
     "data": {
      "text/plain": [
       "286"
      ]
     },
     "execution_count": 10,
     "metadata": {},
     "output_type": "execute_result"
    }
   ],
   "source": [
    "len(cell_range)"
   ]
  },
  {
   "cell_type": "code",
   "execution_count": 18,
   "metadata": {},
   "outputs": [
    {
     "data": {
      "text/plain": [
       "[896764, 585864, 500723]"
      ]
     },
     "execution_count": 18,
     "metadata": {},
     "output_type": "execute_result"
    }
   ],
   "source": [
    "sales_data"
   ]
  },
  {
   "cell_type": "code",
   "execution_count": 22,
   "metadata": {},
   "outputs": [
    {
     "name": "stdout",
     "output_type": "stream",
     "text": [
      "((<Cell 'Aggregated'.A2>, <Cell 'Aggregated'.B2>), (<Cell 'Aggregated'.A3>, <Cell 'Aggregated'.B3>), (<Cell 'Aggregated'.A4>, <Cell 'Aggregated'.B4>), (<Cell 'Aggregated'.A5>, <Cell 'Aggregated'.B5>), (<Cell 'Aggregated'.A6>, <Cell 'Aggregated'.B6>))\n"
     ]
    }
   ],
   "source": [
    "print(cell_range)"
   ]
  },
  {
   "cell_type": "code",
   "execution_count": null,
   "metadata": {},
   "outputs": [],
   "source": []
  }
 ],
 "metadata": {
  "kernelspec": {
   "display_name": "Python 3",
   "language": "python",
   "name": "python3"
  },
  "language_info": {
   "codemirror_mode": {
    "name": "ipython",
    "version": 3
   },
   "file_extension": ".py",
   "mimetype": "text/x-python",
   "name": "python",
   "nbconvert_exporter": "python",
   "pygments_lexer": "ipython3",
   "version": "3.6.4"
  }
 },
 "nbformat": 4,
 "nbformat_minor": 2
}
